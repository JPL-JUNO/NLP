{
 "cells": [
  {
   "cell_type": "code",
   "execution_count": 1,
   "metadata": {},
   "outputs": [
    {
     "name": "stdout",
     "output_type": "stream",
     "text": [
      "\n",
      "@Description: Example: Classifying Sentiment of Restaurant Reviews\n",
      "@Author(s): Stephen CUI\n",
      "@LastEditor(s): Stephen CUI\n",
      "@CreatedTime: 2023-04-24 15:00:30\n",
      "\n"
     ]
    }
   ],
   "source": [
    "print(\"\"\"\n",
    "@Description: Example: Classifying Sentiment of Restaurant Reviews\n",
    "@Author(s): Stephen CUI\n",
    "@LastEditor(s): Stephen CUI\n",
    "@CreatedTime: 2023-04-24 15:00:30\n",
    "\"\"\")"
   ]
  },
  {
   "cell_type": "code",
   "execution_count": 2,
   "metadata": {},
   "outputs": [],
   "source": [
    "import collections\n",
    "import numpy as np\n",
    "import pandas as pd\n",
    "import re\n",
    "from argparse import Namespace\n",
    "\n",
    "args = Namespace(\n",
    "    raw_train_dataset_csv='data/yelp/raw_train.csv',\n",
    "    raw_test_dataset_csv='data/yelp/raw_test.csv',\n",
    "    proportion_subset_of_train=.1,\n",
    "    train_proportion=.7,\n",
    "    val_proportion=.5,\n",
    "    test_proportion=.15,\n",
    "    output_munged_scv='data/yelp/reviews_with_split_lite.csv'\n",
    ")"
   ]
  },
  {
   "cell_type": "code",
   "execution_count": 5,
   "metadata": {},
   "outputs": [],
   "source": [
    "train_reviews = pd.read_csv(args.raw_train_dataset_csv,\n",
    "                            header=None,\n",
    "                            names=['rating', 'review'])"
   ]
  },
  {
   "cell_type": "code",
   "execution_count": 6,
   "metadata": {},
   "outputs": [],
   "source": [
    "by_rating = collections.defaultdict(list)"
   ]
  },
  {
   "cell_type": "code",
   "execution_count": 7,
   "metadata": {},
   "outputs": [],
   "source": [
    "for _, row in train_reviews.iterrows():\n",
    "    by_rating[row['rating']].append(row.to_dict())"
   ]
  },
  {
   "cell_type": "code",
   "execution_count": 28,
   "metadata": {},
   "outputs": [],
   "source": [
    "review_subset = []\n",
    "for _, item_list in sorted(by_rating.items()):\n",
    "    n_total = len(item_list)\n",
    "    n_subset = int(args.proportion_subset_of_train * n_total)\n",
    "    review_subset.extend(item_list[:n_subset])\n",
    "review_subset = pd.DataFrame(review_subset)"
   ]
  },
  {
   "cell_type": "code",
   "execution_count": 29,
   "metadata": {},
   "outputs": [
    {
     "data": {
      "text/html": [
       "<div>\n",
       "<style scoped>\n",
       "    .dataframe tbody tr th:only-of-type {\n",
       "        vertical-align: middle;\n",
       "    }\n",
       "\n",
       "    .dataframe tbody tr th {\n",
       "        vertical-align: top;\n",
       "    }\n",
       "\n",
       "    .dataframe thead th {\n",
       "        text-align: right;\n",
       "    }\n",
       "</style>\n",
       "<table border=\"1\" class=\"dataframe\">\n",
       "  <thead>\n",
       "    <tr style=\"text-align: right;\">\n",
       "      <th></th>\n",
       "      <th>rating</th>\n",
       "      <th>review</th>\n",
       "    </tr>\n",
       "  </thead>\n",
       "  <tbody>\n",
       "    <tr>\n",
       "      <th>28499</th>\n",
       "      <td>2</td>\n",
       "      <td>been ordering chubbys for over ten years.  sol...</td>\n",
       "    </tr>\n",
       "    <tr>\n",
       "      <th>43693</th>\n",
       "      <td>2</td>\n",
       "      <td>For a white girl, I frequent Lee Lee's often. ...</td>\n",
       "    </tr>\n",
       "    <tr>\n",
       "      <th>16262</th>\n",
       "      <td>1</td>\n",
       "      <td>03/06/2014\\n\\nI've been here before. It has no...</td>\n",
       "    </tr>\n",
       "    <tr>\n",
       "      <th>6720</th>\n",
       "      <td>1</td>\n",
       "      <td>after my delicious first wrap, i went in here ...</td>\n",
       "    </tr>\n",
       "    <tr>\n",
       "      <th>50931</th>\n",
       "      <td>2</td>\n",
       "      <td>Andie who is serving our take out is AMAZING! ...</td>\n",
       "    </tr>\n",
       "  </tbody>\n",
       "</table>\n",
       "</div>"
      ],
      "text/plain": [
       "       rating                                             review\n",
       "28499       2  been ordering chubbys for over ten years.  sol...\n",
       "43693       2  For a white girl, I frequent Lee Lee's often. ...\n",
       "16262       1  03/06/2014\\n\\nI've been here before. It has no...\n",
       "6720        1  after my delicious first wrap, i went in here ...\n",
       "50931       2  Andie who is serving our take out is AMAZING! ..."
      ]
     },
     "execution_count": 29,
     "metadata": {},
     "output_type": "execute_result"
    }
   ],
   "source": [
    "review_subset.sample(5)"
   ]
  },
  {
   "cell_type": "code",
   "execution_count": 52,
   "metadata": {},
   "outputs": [],
   "source": [
    "for rating in set(review_subset['rating']):\n",
    "    indices = review_subset[review_subset['rating'] == rating].index.to_numpy()\n",
    "    np.random.shuffle(indices)\n",
    "    n_total_by_rating = len(review_subset[review_subset['rating'] == rating])\n",
    "    n_train_by_rating = int(args.train_proportion * n_total)\n",
    "    n_val_by_rating = int(args.val_proportion * n_total)\n",
    "    n_test_by_rating = int(args.test_proportion * n_total)"
   ]
  },
  {
   "cell_type": "code",
   "execution_count": null,
   "metadata": {},
   "outputs": [],
   "source": []
  }
 ],
 "metadata": {
  "kernelspec": {
   "display_name": "NLP",
   "language": "python",
   "name": "python3"
  },
  "language_info": {
   "codemirror_mode": {
    "name": "ipython",
    "version": 3
   },
   "file_extension": ".py",
   "mimetype": "text/x-python",
   "name": "python",
   "nbconvert_exporter": "python",
   "pygments_lexer": "ipython3",
   "version": "3.10.10"
  },
  "orig_nbformat": 4
 },
 "nbformat": 4,
 "nbformat_minor": 2
}
