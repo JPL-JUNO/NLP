{
 "cells": [
  {
   "cell_type": "code",
   "execution_count": 45,
   "metadata": {},
   "outputs": [
    {
     "name": "stdout",
     "output_type": "stream",
     "text": [
      "\n",
      "@Description: Exercises\n",
      "@Author(s): Stephen CUI\n",
      "@Time: 2023-04-20 22:37:16\n",
      "\n"
     ]
    }
   ],
   "source": [
    "print(\"\"\"\n",
    "@Description: Exercises\n",
    "@Author(s): Stephen CUI\n",
    "@Time: 2023-04-20 22:37:16\n",
    "\"\"\")"
   ]
  },
  {
   "cell_type": "code",
   "execution_count": 46,
   "metadata": {},
   "outputs": [],
   "source": [
    "import torch"
   ]
  },
  {
   "attachments": {},
   "cell_type": "markdown",
   "metadata": {},
   "source": [
    "1. Create a 2D tensor and then add a dimension of size 1 inserted at dimension 0."
   ]
  },
  {
   "cell_type": "code",
   "execution_count": 47,
   "metadata": {},
   "outputs": [
    {
     "data": {
      "text/plain": [
       "tensor([[0.0663, 0.9573],\n",
       "        [0.2447, 0.4588]])"
      ]
     },
     "execution_count": 47,
     "metadata": {},
     "output_type": "execute_result"
    }
   ],
   "source": [
    "a = torch.rand(2, 2)\n",
    "a"
   ]
  },
  {
   "cell_type": "code",
   "execution_count": 48,
   "metadata": {},
   "outputs": [
    {
     "data": {
      "text/plain": [
       "tensor([[[0.0663, 0.9573],\n",
       "         [0.2447, 0.4588]]])"
      ]
     },
     "execution_count": 48,
     "metadata": {},
     "output_type": "execute_result"
    }
   ],
   "source": [
    "a.unsqueeze(0)"
   ]
  },
  {
   "attachments": {},
   "cell_type": "markdown",
   "metadata": {},
   "source": [
    "2. Remove the extra dimension you just added to the previous tensor."
   ]
  },
  {
   "cell_type": "code",
   "execution_count": 49,
   "metadata": {},
   "outputs": [
    {
     "data": {
      "text/plain": [
       "tensor([[0.0663, 0.9573],\n",
       "        [0.2447, 0.4588]])"
      ]
     },
     "execution_count": 49,
     "metadata": {},
     "output_type": "execute_result"
    }
   ],
   "source": [
    "a.squeeze(0)"
   ]
  },
  {
   "attachments": {},
   "cell_type": "markdown",
   "metadata": {},
   "source": [
    "Create a random tensor of shape $5\\times 3$ in the interval $[3, 7)$"
   ]
  },
  {
   "cell_type": "code",
   "execution_count": 50,
   "metadata": {},
   "outputs": [
    {
     "data": {
      "text/plain": [
       "tensor([[3.9834, 5.4747, 6.9323],\n",
       "        [4.3530, 4.8173, 3.9780],\n",
       "        [4.9454, 3.4239, 6.8939],\n",
       "        [6.1719, 4.8564, 4.8410],\n",
       "        [4.4328, 6.7813, 6.8537]])"
      ]
     },
     "execution_count": 50,
     "metadata": {},
     "output_type": "execute_result"
    }
   ],
   "source": [
    "a = torch.rand(5, 3) * (7- 3) + 3\n",
    "a"
   ]
  },
  {
   "attachments": {},
   "cell_type": "markdown",
   "metadata": {},
   "source": [
    "4. Create a tensor with values from a normal distribution (mean=0, std=1)."
   ]
  },
  {
   "cell_type": "code",
   "execution_count": 51,
   "metadata": {},
   "outputs": [
    {
     "data": {
      "text/plain": [
       "tensor([[-1.3578, -1.3750, -0.0224],\n",
       "        [ 0.4004, -0.2538,  0.4788],\n",
       "        [-0.2033, -0.5660,  1.4409]])"
      ]
     },
     "execution_count": 51,
     "metadata": {},
     "output_type": "execute_result"
    }
   ],
   "source": [
    "a = torch.randn(3, 3)\n",
    "a"
   ]
  },
  {
   "cell_type": "code",
   "execution_count": 52,
   "metadata": {},
   "outputs": [
    {
     "data": {
      "text/plain": [
       "tensor([[-2.4515, -1.1668, -0.8156],\n",
       "        [-0.9636, -0.9109,  0.9140],\n",
       "        [-0.1485, -0.7598, -1.6560]])"
      ]
     },
     "execution_count": 52,
     "metadata": {},
     "output_type": "execute_result"
    }
   ],
   "source": [
    "a = torch.rand(3, 3)\n",
    "a.normal_()"
   ]
  },
  {
   "attachments": {},
   "cell_type": "markdown",
   "metadata": {},
   "source": [
    "5. Create a random tensor of size $(3,1)$ and then horizontally stack four copies together."
   ]
  },
  {
   "cell_type": "code",
   "execution_count": 53,
   "metadata": {},
   "outputs": [
    {
     "data": {
      "text/plain": [
       "tensor([[0.2266, 0.2266, 0.2266, 0.2266],\n",
       "        [0.4097, 0.4097, 0.4097, 0.4097],\n",
       "        [0.8610, 0.8610, 0.8610, 0.8610]])"
      ]
     },
     "execution_count": 53,
     "metadata": {},
     "output_type": "execute_result"
    }
   ],
   "source": [
    "a = torch.rand(3, 1)\n",
    "torch.cat([a] * 4, dim=1)"
   ]
  },
  {
   "cell_type": "code",
   "execution_count": 54,
   "metadata": {},
   "outputs": [
    {
     "data": {
      "text/plain": [
       "tensor([[0.2266, 0.2266, 0.2266, 0.2266],\n",
       "        [0.4097, 0.4097, 0.4097, 0.4097],\n",
       "        [0.8610, 0.8610, 0.8610, 0.8610]])"
      ]
     },
     "execution_count": 54,
     "metadata": {},
     "output_type": "execute_result"
    }
   ],
   "source": [
    "a.expand(3, 4)"
   ]
  },
  {
   "attachments": {},
   "cell_type": "markdown",
   "metadata": {},
   "source": [
    "6. Retrieve the indexes of all the nonzero elements in the tensor `torch.Tensor([1, 1, 1, 0, 1])`."
   ]
  },
  {
   "cell_type": "code",
   "execution_count": 55,
   "metadata": {},
   "outputs": [
    {
     "data": {
      "text/plain": [
       "tensor([[0],\n",
       "        [1],\n",
       "        [2],\n",
       "        [4]])"
      ]
     },
     "execution_count": 55,
     "metadata": {},
     "output_type": "execute_result"
    }
   ],
   "source": [
    "a = torch.Tensor([1, 1, 1, 0, 1])\n",
    "torch.nonzero(a)"
   ]
  },
  {
   "attachments": {},
   "cell_type": "markdown",
   "metadata": {},
   "source": [
    "7. Return the batch matrix-matrix product of two three-dimensional matrices (`a=torch.rand(3,4,5)`, `b=torch.rand(3,5,4)`)."
   ]
  },
  {
   "cell_type": "code",
   "execution_count": 56,
   "metadata": {},
   "outputs": [],
   "source": [
    "a = torch.rand(3, 4, 5)\n",
    "b = torch.rand(3, 5, 4)"
   ]
  },
  {
   "cell_type": "code",
   "execution_count": 57,
   "metadata": {},
   "outputs": [
    {
     "data": {
      "text/plain": [
       "tensor([[[1.3183, 1.1855, 1.1601, 0.6356],\n",
       "         [1.1862, 1.1155, 0.9579, 0.9366],\n",
       "         [1.5893, 2.0542, 1.1877, 1.3921],\n",
       "         [1.6563, 1.4342, 1.0465, 1.1537]],\n",
       "\n",
       "        [[1.3862, 1.6275, 1.5878, 1.8040],\n",
       "         [1.8659, 2.5596, 2.0749, 2.2333],\n",
       "         [0.8816, 1.1554, 1.1044, 0.9647],\n",
       "         [0.9916, 1.5688, 1.2590, 1.1746]],\n",
       "\n",
       "        [[0.2529, 0.5533, 0.3852, 0.3455],\n",
       "         [1.5493, 1.5610, 1.2825, 1.6094],\n",
       "         [1.2152, 1.5763, 1.2910, 1.1191],\n",
       "         [1.6376, 2.1609, 1.6514, 1.4816]]])"
      ]
     },
     "execution_count": 57,
     "metadata": {},
     "output_type": "execute_result"
    }
   ],
   "source": [
    "torch.bmm(a, b)"
   ]
  },
  {
   "attachments": {},
   "cell_type": "markdown",
   "metadata": {},
   "source": [
    "8. Return the batch matrix-matrix product of a 3D matrix and a 2D matrix (`a=torch.rand(3,4,5)`, `b=torch.rand(5,4)`)."
   ]
  },
  {
   "cell_type": "code",
   "execution_count": 58,
   "metadata": {},
   "outputs": [
    {
     "data": {
      "text/plain": [
       "tensor([[[0.9111, 0.9271, 1.8489, 1.7912],\n",
       "         [1.2336, 1.3651, 1.9784, 2.0473],\n",
       "         [1.2628, 1.1518, 1.9393, 1.3922],\n",
       "         [1.0070, 0.8825, 1.5785, 1.0800]],\n",
       "\n",
       "        [[1.5800, 1.3336, 2.5369, 1.8119],\n",
       "         [1.0012, 0.9293, 1.9145, 1.5010],\n",
       "         [0.9237, 0.8922, 1.3865, 1.3791],\n",
       "         [0.9797, 1.0844, 1.6411, 1.5089]],\n",
       "\n",
       "        [[0.8572, 0.6149, 1.6363, 1.1954],\n",
       "         [0.8898, 0.8943, 1.7075, 1.6443],\n",
       "         [0.7989, 0.9668, 1.2732, 1.3908],\n",
       "         [1.0538, 1.0518, 1.5507, 1.3361]]])"
      ]
     },
     "execution_count": 58,
     "metadata": {},
     "output_type": "execute_result"
    }
   ],
   "source": [
    "a = torch.rand(3, 4, 5)\n",
    "b = torch.rand(5, 4)\n",
    "torch.bmm(a, b.unsqueeze(0).expand(a.size(0), *b.size()))"
   ]
  },
  {
   "cell_type": "code",
   "execution_count": null,
   "metadata": {},
   "outputs": [],
   "source": []
  }
 ],
 "metadata": {
  "kernelspec": {
   "display_name": "NLP",
   "language": "python",
   "name": "python3"
  },
  "language_info": {
   "codemirror_mode": {
    "name": "ipython",
    "version": 3
   },
   "file_extension": ".py",
   "mimetype": "text/x-python",
   "name": "python",
   "nbconvert_exporter": "python",
   "pygments_lexer": "ipython3",
   "version": "3.10.10"
  },
  "orig_nbformat": 4
 },
 "nbformat": 4,
 "nbformat_minor": 2
}
